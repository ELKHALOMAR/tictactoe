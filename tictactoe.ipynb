{
 "cells": [
  {
   "cell_type": "code",
   "execution_count": 1,
   "metadata": {},
   "outputs": [],
   "source": [
    "def pr(*args):\n",
    "    def gen ():\n",
    "        for x in args:\n",
    "            if x == '-1':\n",
    "                yield 'x'\n",
    "            elif x == '1':\n",
    "                yield 'o'\n",
    "            else:\n",
    "                yield '_'\n",
    "            \n",
    "    print(f'  ---- ---- ----\\n | {list(gen())[0]} | {list(gen())[1]} | {list(gen())[2]} | ')\n",
    "    print(f'  ---- ---- ----\\n | {list(gen())[3]} | {list(gen())[4]} | {list(gen())[5]} | ')\n",
    "    print(f'  ---- ---- ----\\n | {list(gen())[6]} | {list(gen())[7]} | {list(gen())[8]} | ')\n",
    "    print('  ---- ---- ----')"
   ]
  },
  {
   "cell_type": "code",
   "execution_count": 2,
   "metadata": {},
   "outputs": [],
   "source": [
    "def cercle_or_cross():\n",
    "    \n",
    "    for x in range(9):\n",
    "        n = (-1)**x\n",
    "        yield n"
   ]
  },
  {
   "cell_type": "code",
   "execution_count": 14,
   "metadata": {},
   "outputs": [],
   "source": [
    "l = {\"a0\": \"1\", \"b0\":\"0\", \"c0\":\"0\", \"a1\":\"0\", \"b1\":\"0\", \"c1\":\"0\", \"a2\":\"0\", \"b2\":\"0\", \"c2\" : \"0\"}\n"
   ]
  },
  {
   "cell_type": "code",
   "execution_count": 15,
   "metadata": {},
   "outputs": [],
   "source": [
    "def rest():\n",
    "    for x in range(len(list(l))):\n",
    "        l[list(l)[x]] = \"0\"\n",
    "rest()\n"
   ]
  },
  {
   "cell_type": "code",
   "execution_count": 16,
   "metadata": {},
   "outputs": [],
   "source": [
    "def upd ():\n",
    "    pr(l['a0'], l['b0'], l['c0'], l['a1'], l['b1'], l['c1'], l['a2'], l['b2'], l['c2'])"
   ]
  },
  {
   "cell_type": "code",
   "execution_count": 17,
   "metadata": {},
   "outputs": [
    {
     "data": {
      "text/plain": [
       "True"
      ]
     },
     "execution_count": 17,
     "metadata": {},
     "output_type": "execute_result"
    }
   ],
   "source": [
    "'a0' in l.keys()\n"
   ]
  },
  {
   "cell_type": "code",
   "execution_count": 18,
   "metadata": {},
   "outputs": [],
   "source": [
    "player1, player2 =1, -1"
   ]
  },
  {
   "cell_type": "code",
   "execution_count": 19,
   "metadata": {},
   "outputs": [],
   "source": [
    "def play(player):\n",
    "    input_value = input('please select which box you choose: ')\n",
    "    if input_value in l.keys():\n",
    "        if player == player1:\n",
    "            if l[input_value] == '0':\n",
    "                l[input_value] = str(player1)\n",
    "                upd()\n",
    "            else:\n",
    "                print('please type a correct answer')\n",
    "                upd()\n",
    "                play(player)\n",
    "                \n",
    "        else:\n",
    "            if l[input_value] == '0':\n",
    "                l[input_value] = str(player2)\n",
    "                upd()\n",
    "            else:\n",
    "                print('please type a correct answer')\n",
    "                upd()\n",
    "                play(player)\n",
    "    else:\n",
    "        print('please type a correct answer')\n",
    "        upd()\n",
    "        play(player)\n",
    "    return player"
   ]
  },
  {
   "cell_type": "code",
   "execution_count": 20,
   "metadata": {},
   "outputs": [
    {
     "data": {
      "text/plain": [
       "False"
      ]
     },
     "execution_count": 20,
     "metadata": {},
     "output_type": "execute_result"
    }
   ],
   "source": [
    "def check():\n",
    "   a = (l['a0'] == l['a1'] == l['a2'] != '0')\n",
    "   b = (l['b0'] == l['b1'] == l['b2'] != '0')\n",
    "   c = (l['c0'] == l['c1'] == l['c2'] != '0')\n",
    "\n",
    "   d = (l['a0'] == l['b0'] == l['c0'] != '0')\n",
    "   e = (l['a1'] == l['b1'] == l['c1'] != '0')\n",
    "   f = (l['a2'] == l['b2'] == l['c2'] != '0')\n",
    "\n",
    "\n",
    "   j = (l['a0'] == l['b1'] == l['c2'] != '0')\n",
    "   h = (l['a2'] == l['b1'] == l['c0'] != '0')\n",
    "    \n",
    "   x = (a or b or c or d or e or f or j or h)\n",
    "\n",
    "   return x\n",
    "\n",
    "check()"
   ]
  },
  {
   "cell_type": "code",
   "execution_count": 13,
   "metadata": {},
   "outputs": [
    {
     "name": "stdout",
     "output_type": "stream",
     "text": [
      " player1 o\n",
      "please select which box you choose: a0\n",
      "  ---- ---- ----\n",
      " | o | _ | _ | \n",
      "  ---- ---- ----\n",
      " | _ | _ | _ | \n",
      "  ---- ---- ----\n",
      " | _ | _ | _ | \n",
      "  ---- ---- ----\n",
      "player2 x\n",
      "please select which box you choose: b0\n",
      "  ---- ---- ----\n",
      " | o | x | _ | \n",
      "  ---- ---- ----\n",
      " | _ | _ | _ | \n",
      "  ---- ---- ----\n",
      " | _ | _ | _ | \n",
      "  ---- ---- ----\n",
      " player1 o\n",
      "please select which box you choose: a1\n",
      "  ---- ---- ----\n",
      " | o | x | _ | \n",
      "  ---- ---- ----\n",
      " | o | _ | _ | \n",
      "  ---- ---- ----\n",
      " | _ | _ | _ | \n",
      "  ---- ---- ----\n",
      "player2 x\n",
      "please select which box you choose: b1\n",
      "  ---- ---- ----\n",
      " | o | x | _ | \n",
      "  ---- ---- ----\n",
      " | o | x | _ | \n",
      "  ---- ---- ----\n",
      " | _ | _ | _ | \n",
      "  ---- ---- ----\n",
      " player1 o\n",
      "please select which box you choose: c0\n",
      "  ---- ---- ----\n",
      " | o | x | o | \n",
      "  ---- ---- ----\n",
      " | o | x | _ | \n",
      "  ---- ---- ----\n",
      " | _ | _ | _ | \n",
      "  ---- ---- ----\n",
      "player2 x\n",
      "please select which box you choose: b2\n",
      "  ---- ---- ----\n",
      " | o | x | o | \n",
      "  ---- ---- ----\n",
      " | o | x | _ | \n",
      "  ---- ---- ----\n",
      " | _ | x | _ | \n",
      "  ---- ---- ----\n",
      "player2 won\n",
      "{'a0': '1', 'b0': '-1', 'c0': '1', 'a1': '1', 'b1': '-1', 'c1': '0', 'a2': '0', 'b2': '-1', 'c2': '0'}\n"
     ]
    }
   ],
   "source": [
    "rest()\n",
    "for x in list(cercle_or_cross()):\n",
    "\n",
    "    \n",
    "    if check() == False:\n",
    "        if x == 1: print(' player1 o')\n",
    "        else : print('player2 x')\n",
    "        play(x)\n",
    "        \n",
    "\n",
    "    else :\n",
    "        if x == -1: \n",
    "            print(' player1 won')\n",
    "            break\n",
    "        else : \n",
    "            print('player2 won')\n",
    "            break\n",
    "    \n",
    "\n",
    "print(l)"
   ]
  }
 ],
 "metadata": {
  "kernelspec": {
   "display_name": "Python 3",
   "language": "python",
   "name": "python3"
  },
  "language_info": {
   "codemirror_mode": {
    "name": "ipython",
    "version": 3
   },
   "file_extension": ".py",
   "mimetype": "text/x-python",
   "name": "python",
   "nbconvert_exporter": "python",
   "pygments_lexer": "ipython3",
   "version": "3.7.3"
  }
 },
 "nbformat": 4,
 "nbformat_minor": 2
}
